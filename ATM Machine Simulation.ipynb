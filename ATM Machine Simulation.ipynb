import time

print("Please insert your card")
time.sleep(5)
password=1234
pin=int(input("Enter your atm pin:"))

balance = 5000

if pin==password:
  while True:
    print("""
        1 == balance
        2 == withdraw balance
        3 == deposite balance
        4 == exit""")
    try:
      option=int(input("Enter your option:"))
    except:
      print("Please enter valid option")

    if option==1:
      print(f"Your balance is {balance}")
      print("==============================================================")

    if option==2:
      withdraw_amount=int(input("Please enter withdraw_amount"))
      balance=balance-withdraw_amount
      print(f"{withdraw_amount} is debited from your account")
      print(f"Your current balance is {balance}")
      print("==============================================================")

    if option==3:
      deposite_amount=int(input("Please enter deposite_amount"))
      balance=balance+deposite_amount
      print(f"{deposite_amount} is credited to your account")
      print(f"Your  update balance is {balance}")
      print("==============================================================")

    if option==4:
      print("Please take your card")
      break



else:
  print("Wrong pin please try again")
